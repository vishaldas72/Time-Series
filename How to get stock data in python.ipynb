{
 "cells": [
  {
   "cell_type": "code",
   "execution_count": 1,
   "metadata": {},
   "outputs": [],
   "source": [
    "import yfinance as yf"
   ]
  },
  {
   "cell_type": "code",
   "execution_count": 2,
   "metadata": {},
   "outputs": [],
   "source": [
    "#define ticker symbol\n",
    "tickersymbol = 'MSFT'"
   ]
  },
  {
   "cell_type": "code",
   "execution_count": 3,
   "metadata": {},
   "outputs": [],
   "source": [
    "#get ticker data on this ticker\n",
    "tickerdata = yf.Ticker(tickersymbol)"
   ]
  },
  {
   "cell_type": "code",
   "execution_count": 4,
   "metadata": {},
   "outputs": [],
   "source": [
    "#get historical prices for this ticker \n",
    "tickerdf = tickerdata.history(period='1d',start='2018-01-10',end='2020-11-19')"
   ]
  },
  {
   "cell_type": "code",
   "execution_count": 5,
   "metadata": {},
   "outputs": [
    {
     "data": {
      "text/html": [
       "<div>\n",
       "<style scoped>\n",
       "    .dataframe tbody tr th:only-of-type {\n",
       "        vertical-align: middle;\n",
       "    }\n",
       "\n",
       "    .dataframe tbody tr th {\n",
       "        vertical-align: top;\n",
       "    }\n",
       "\n",
       "    .dataframe thead th {\n",
       "        text-align: right;\n",
       "    }\n",
       "</style>\n",
       "<table border=\"1\" class=\"dataframe\">\n",
       "  <thead>\n",
       "    <tr style=\"text-align: right;\">\n",
       "      <th></th>\n",
       "      <th>Open</th>\n",
       "      <th>High</th>\n",
       "      <th>Low</th>\n",
       "      <th>Close</th>\n",
       "      <th>Volume</th>\n",
       "      <th>Dividends</th>\n",
       "      <th>Stock Splits</th>\n",
       "    </tr>\n",
       "    <tr>\n",
       "      <th>Date</th>\n",
       "      <th></th>\n",
       "      <th></th>\n",
       "      <th></th>\n",
       "      <th></th>\n",
       "      <th></th>\n",
       "      <th></th>\n",
       "      <th></th>\n",
       "    </tr>\n",
       "  </thead>\n",
       "  <tbody>\n",
       "    <tr>\n",
       "      <th>2018-01-09</th>\n",
       "      <td>84.971614</td>\n",
       "      <td>85.048296</td>\n",
       "      <td>84.214393</td>\n",
       "      <td>84.559456</td>\n",
       "      <td>19484300</td>\n",
       "      <td>0.0</td>\n",
       "      <td>0</td>\n",
       "    </tr>\n",
       "    <tr>\n",
       "      <th>2018-01-10</th>\n",
       "      <td>84.214397</td>\n",
       "      <td>84.530706</td>\n",
       "      <td>83.783072</td>\n",
       "      <td>84.176056</td>\n",
       "      <td>18652200</td>\n",
       "      <td>0.0</td>\n",
       "      <td>0</td>\n",
       "    </tr>\n",
       "    <tr>\n",
       "      <th>2018-01-11</th>\n",
       "      <td>84.473183</td>\n",
       "      <td>84.473183</td>\n",
       "      <td>83.620113</td>\n",
       "      <td>84.425262</td>\n",
       "      <td>17808900</td>\n",
       "      <td>0.0</td>\n",
       "      <td>0</td>\n",
       "    </tr>\n",
       "    <tr>\n",
       "      <th>2018-01-12</th>\n",
       "      <td>84.990775</td>\n",
       "      <td>86.054718</td>\n",
       "      <td>84.779903</td>\n",
       "      <td>85.882187</td>\n",
       "      <td>24271500</td>\n",
       "      <td>0.0</td>\n",
       "      <td>0</td>\n",
       "    </tr>\n",
       "    <tr>\n",
       "      <th>2018-01-16</th>\n",
       "      <td>86.361438</td>\n",
       "      <td>87.022810</td>\n",
       "      <td>84.358163</td>\n",
       "      <td>84.684052</td>\n",
       "      <td>36599700</td>\n",
       "      <td>0.0</td>\n",
       "      <td>0</td>\n",
       "    </tr>\n",
       "  </tbody>\n",
       "</table>\n",
       "</div>"
      ],
      "text/plain": [
       "                 Open       High        Low      Close    Volume  Dividends  \\\n",
       "Date                                                                          \n",
       "2018-01-09  84.971614  85.048296  84.214393  84.559456  19484300        0.0   \n",
       "2018-01-10  84.214397  84.530706  83.783072  84.176056  18652200        0.0   \n",
       "2018-01-11  84.473183  84.473183  83.620113  84.425262  17808900        0.0   \n",
       "2018-01-12  84.990775  86.054718  84.779903  85.882187  24271500        0.0   \n",
       "2018-01-16  86.361438  87.022810  84.358163  84.684052  36599700        0.0   \n",
       "\n",
       "            Stock Splits  \n",
       "Date                      \n",
       "2018-01-09             0  \n",
       "2018-01-10             0  \n",
       "2018-01-11             0  \n",
       "2018-01-12             0  \n",
       "2018-01-16             0  "
      ]
     },
     "execution_count": 5,
     "metadata": {},
     "output_type": "execute_result"
    }
   ],
   "source": [
    "tickerdf.head()"
   ]
  },
  {
   "cell_type": "markdown",
   "metadata": {},
   "source": [
    "#### Another way of doing using pandas datareader"
   ]
  },
  {
   "cell_type": "code",
   "execution_count": 6,
   "metadata": {},
   "outputs": [],
   "source": [
    "import pandas_datareader.data as web"
   ]
  },
  {
   "cell_type": "code",
   "execution_count": 7,
   "metadata": {},
   "outputs": [
    {
     "data": {
      "text/html": [
       "<div>\n",
       "<style scoped>\n",
       "    .dataframe tbody tr th:only-of-type {\n",
       "        vertical-align: middle;\n",
       "    }\n",
       "\n",
       "    .dataframe tbody tr th {\n",
       "        vertical-align: top;\n",
       "    }\n",
       "\n",
       "    .dataframe thead th {\n",
       "        text-align: right;\n",
       "    }\n",
       "</style>\n",
       "<table border=\"1\" class=\"dataframe\">\n",
       "  <thead>\n",
       "    <tr style=\"text-align: right;\">\n",
       "      <th></th>\n",
       "      <th>High</th>\n",
       "      <th>Low</th>\n",
       "      <th>Open</th>\n",
       "      <th>Close</th>\n",
       "      <th>Volume</th>\n",
       "      <th>Adj Close</th>\n",
       "    </tr>\n",
       "    <tr>\n",
       "      <th>Date</th>\n",
       "      <th></th>\n",
       "      <th></th>\n",
       "      <th></th>\n",
       "      <th></th>\n",
       "      <th></th>\n",
       "      <th></th>\n",
       "    </tr>\n",
       "  </thead>\n",
       "  <tbody>\n",
       "    <tr>\n",
       "      <th>2018-01-09</th>\n",
       "      <td>110.860001</td>\n",
       "      <td>109.860001</td>\n",
       "      <td>110.129997</td>\n",
       "      <td>109.940002</td>\n",
       "      <td>5838000.0</td>\n",
       "      <td>106.917191</td>\n",
       "    </tr>\n",
       "    <tr>\n",
       "      <th>2018-01-10</th>\n",
       "      <td>110.500000</td>\n",
       "      <td>109.010002</td>\n",
       "      <td>109.959999</td>\n",
       "      <td>109.470001</td>\n",
       "      <td>6060000.0</td>\n",
       "      <td>106.460114</td>\n",
       "    </tr>\n",
       "    <tr>\n",
       "      <th>2018-01-11</th>\n",
       "      <td>111.080002</td>\n",
       "      <td>109.510002</td>\n",
       "      <td>110.250000</td>\n",
       "      <td>110.989998</td>\n",
       "      <td>6427000.0</td>\n",
       "      <td>107.938324</td>\n",
       "    </tr>\n",
       "    <tr>\n",
       "      <th>2018-01-12</th>\n",
       "      <td>112.720001</td>\n",
       "      <td>111.000000</td>\n",
       "      <td>111.320000</td>\n",
       "      <td>112.470001</td>\n",
       "      <td>5899900.0</td>\n",
       "      <td>109.377632</td>\n",
       "    </tr>\n",
       "    <tr>\n",
       "      <th>2018-01-16</th>\n",
       "      <td>113.160004</td>\n",
       "      <td>110.620003</td>\n",
       "      <td>113.070000</td>\n",
       "      <td>110.690002</td>\n",
       "      <td>8069200.0</td>\n",
       "      <td>107.646576</td>\n",
       "    </tr>\n",
       "  </tbody>\n",
       "</table>\n",
       "</div>"
      ],
      "text/plain": [
       "                  High         Low        Open       Close     Volume  \\\n",
       "Date                                                                    \n",
       "2018-01-09  110.860001  109.860001  110.129997  109.940002  5838000.0   \n",
       "2018-01-10  110.500000  109.010002  109.959999  109.470001  6060000.0   \n",
       "2018-01-11  111.080002  109.510002  110.250000  110.989998  6427000.0   \n",
       "2018-01-12  112.720001  111.000000  111.320000  112.470001  5899900.0   \n",
       "2018-01-16  113.160004  110.620003  113.070000  110.690002  8069200.0   \n",
       "\n",
       "             Adj Close  \n",
       "Date                    \n",
       "2018-01-09  106.917191  \n",
       "2018-01-10  106.460114  \n",
       "2018-01-11  107.938324  \n",
       "2018-01-12  109.377632  \n",
       "2018-01-16  107.646576  "
      ]
     },
     "execution_count": 7,
     "metadata": {},
     "output_type": "execute_result"
    }
   ],
   "source": [
    "df = web.DataReader('DIS', 'yahoo',start='2018-01-10',end='2020-11-19')\n",
    "df.head()"
   ]
  },
  {
   "cell_type": "code",
   "execution_count": null,
   "metadata": {},
   "outputs": [],
   "source": []
  }
 ],
 "metadata": {
  "kernelspec": {
   "display_name": "Python 3",
   "language": "python",
   "name": "python3"
  },
  "language_info": {
   "codemirror_mode": {
    "name": "ipython",
    "version": 3
   },
   "file_extension": ".py",
   "mimetype": "text/x-python",
   "name": "python",
   "nbconvert_exporter": "python",
   "pygments_lexer": "ipython3",
   "version": "3.8.5"
  }
 },
 "nbformat": 4,
 "nbformat_minor": 4
}
